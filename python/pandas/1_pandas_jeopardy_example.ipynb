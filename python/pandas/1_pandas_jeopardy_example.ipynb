{
 "cells": [
  {
   "cell_type": "markdown",
   "metadata": {},
   "source": [
    "# Python Part 3:  Pandas Example"
   ]
  },
  {
   "cell_type": "markdown",
   "metadata": {},
   "source": [
    "### This notebook runs through an example using Pandas with the `jeopardy.csv` data."
   ]
  },
  {
   "cell_type": "markdown",
   "metadata": {},
   "source": [
    "**Data Source:**  200K+Jeopardy questions from [Reddit](https://www.reddit.com/r/datasets/comments/1uyd0t/200000_jeopardy_questions_in_a_json_file/)\n",
    "\n",
    "---\n"
   ]
  },
  {
   "cell_type": "markdown",
   "metadata": {},
   "source": [
    "## Part 1:  import libraries, check versions, set up preferences"
   ]
  },
  {
   "cell_type": "code",
   "execution_count": 1,
   "metadata": {
    "collapsed": true
   },
   "outputs": [],
   "source": [
    "# Python 2 & 3 Compatibility\n",
    "from __future__ import print_function, division"
   ]
  },
  {
   "cell_type": "code",
   "execution_count": 2,
   "metadata": {
    "collapsed": true
   },
   "outputs": [],
   "source": [
    "# imports a library 'pandas', names it as 'pd'\n",
    "import pandas as pd\n",
    "import numpy as np\n",
    "import matplotlib.pyplot as plt\n",
    "\n",
    "from IPython.display import Image\n",
    "\n",
    "# enables inline plots, without it plots don't show up in the notebook\n",
    "%matplotlib inline"
   ]
  },
  {
   "cell_type": "code",
   "execution_count": 3,
   "metadata": {
    "collapsed": false
   },
   "outputs": [
    {
     "name": "stdout",
     "output_type": "stream",
     "text": [
      "Pandas version: 0.22.0\n",
      "Numpy version: 1.14.0\n"
     ]
    }
   ],
   "source": [
    "# check version of libraries\n",
    "print(\"Pandas version:\",pd.__version__)\n",
    "print(\"Numpy version:\",np.__version__)"
   ]
  },
  {
   "cell_type": "code",
   "execution_count": 4,
   "metadata": {
    "collapsed": false
   },
   "outputs": [
    {
     "name": "stdout",
     "output_type": "stream",
     "text": [
      "Python Version: 3.6.4 |Anaconda, Inc.| (default, Jan 16 2018, 12:04:33) \n",
      "[GCC 4.2.1 Compatible Clang 4.0.1 (tags/RELEASE_401/final)]\n"
     ]
    }
   ],
   "source": [
    "# confirming which version of Python I am using\n",
    "import sys\n",
    "print(\"Python Version:\", sys.version)"
   ]
  },
  {
   "cell_type": "code",
   "execution_count": 5,
   "metadata": {
    "collapsed": true
   },
   "outputs": [],
   "source": [
    "# set various options in pandas\n",
    "pd.set_option('display.max_columns', None)\n",
    "pd.set_option('display.max_rows', 25)\n",
    "pd.set_option('display.precision', 3)"
   ]
  },
  {
   "cell_type": "code",
   "execution_count": 6,
   "metadata": {
    "collapsed": false
   },
   "outputs": [
    {
     "name": "stdout",
     "output_type": "stream",
     "text": [
      "total 3504\n",
      "-rw-r--r--  1 dweiss89  staff    93140 Feb 13 19:45 1_pandas_jeopardy_example.ipynb\n",
      "-rw-r--r--  1 dweiss89  staff     9733 Feb 13 19:45 2_pandas_olive_questions.ipynb\n",
      "-rw-r--r--  1 dweiss89  staff  1651525 Feb 13 19:45 jeopardy.csv\n",
      "-rw-r--r--  1 dweiss89  staff    28995 Feb 13 19:45 olive.csv\n"
     ]
    }
   ],
   "source": [
    "# check size of file; notice this is a bash command -- I can run it in the notebook!\n",
    "!ls -l"
   ]
  },
  {
   "cell_type": "markdown",
   "metadata": {},
   "source": [
    "## Part 2:  read in the data"
   ]
  },
  {
   "cell_type": "code",
   "execution_count": 7,
   "metadata": {
    "collapsed": false
   },
   "outputs": [],
   "source": [
    "# read csv data into pandas dataframe\n",
    "df_orig = pd.read_csv('jeopardy.csv', encoding=\"ISO-8859-1\")\n",
    "\n",
    "# Note: I normally don't need to specify encoding.  \n",
    "# But, when I read in this csv file, there was an error.  \n",
    "# I googled it; there are some different unicode types.  I tried a bunch and this worked.  \n",
    "\n",
    "# Data formatting is unpredictable, and one of the skills in data science is to 'google' \n",
    "# and see how to work through data issues"
   ]
  },
  {
   "cell_type": "markdown",
   "metadata": {},
   "source": [
    "## Part 3:  look at data\n",
    "`df` = dataframe being used.  In our case, it is `df_orig`\n",
    "```python\n",
    "df.shape()\n",
    "df.info()\n",
    "df.head()\n",
    "df.tail()\n",
    "df.columns\n",
    "df.values\n",
    "df.dtype\n",
    "```"
   ]
  },
  {
   "cell_type": "code",
   "execution_count": 8,
   "metadata": {
    "collapsed": false
   },
   "outputs": [
    {
     "data": {
      "text/plain": [
       "(10999, 7)"
      ]
     },
     "execution_count": 8,
     "metadata": {},
     "output_type": "execute_result"
    }
   ],
   "source": [
    "# check dimensions of dataframe\n",
    "# (rows, colums)\n",
    "df_orig.shape"
   ]
  },
  {
   "cell_type": "code",
   "execution_count": 9,
   "metadata": {
    "collapsed": false
   },
   "outputs": [
    {
     "data": {
      "text/html": [
       "<div>\n",
       "<style scoped>\n",
       "    .dataframe tbody tr th:only-of-type {\n",
       "        vertical-align: middle;\n",
       "    }\n",
       "\n",
       "    .dataframe tbody tr th {\n",
       "        vertical-align: top;\n",
       "    }\n",
       "\n",
       "    .dataframe thead th {\n",
       "        text-align: right;\n",
       "    }\n",
       "</style>\n",
       "<table border=\"1\" class=\"dataframe\">\n",
       "  <thead>\n",
       "    <tr style=\"text-align: right;\">\n",
       "      <th></th>\n",
       "      <th>Show Number</th>\n",
       "      <th>Air Date</th>\n",
       "      <th>Round</th>\n",
       "      <th>Category</th>\n",
       "      <th>Value</th>\n",
       "      <th>Question</th>\n",
       "      <th>Answer</th>\n",
       "    </tr>\n",
       "  </thead>\n",
       "  <tbody>\n",
       "    <tr>\n",
       "      <th>0</th>\n",
       "      <td>4680</td>\n",
       "      <td>12/31/04</td>\n",
       "      <td>Jeopardy!</td>\n",
       "      <td>HISTORY</td>\n",
       "      <td>$200</td>\n",
       "      <td>For the last 8 years of his life, Galileo was ...</td>\n",
       "      <td>Copernicus</td>\n",
       "    </tr>\n",
       "    <tr>\n",
       "      <th>1</th>\n",
       "      <td>4680</td>\n",
       "      <td>12/31/04</td>\n",
       "      <td>Jeopardy!</td>\n",
       "      <td>ESPN's TOP 10 ALL-TIME ATHLETES</td>\n",
       "      <td>$200</td>\n",
       "      <td>No. 2: 1912 Olympian; football star at Carlisl...</td>\n",
       "      <td>Jim Thorpe</td>\n",
       "    </tr>\n",
       "    <tr>\n",
       "      <th>2</th>\n",
       "      <td>4680</td>\n",
       "      <td>12/31/04</td>\n",
       "      <td>Jeopardy!</td>\n",
       "      <td>EVERYBODY TALKS ABOUT IT...</td>\n",
       "      <td>$200</td>\n",
       "      <td>The city of Yuma in this state has a record av...</td>\n",
       "      <td>Arizona</td>\n",
       "    </tr>\n",
       "  </tbody>\n",
       "</table>\n",
       "</div>"
      ],
      "text/plain": [
       "   Show Number  Air Date      Round                         Category Value  \\\n",
       "0         4680  12/31/04  Jeopardy!                          HISTORY  $200   \n",
       "1         4680  12/31/04  Jeopardy!  ESPN's TOP 10 ALL-TIME ATHLETES  $200   \n",
       "2         4680  12/31/04  Jeopardy!      EVERYBODY TALKS ABOUT IT...  $200   \n",
       "\n",
       "                                            Question      Answer  \n",
       "0  For the last 8 years of his life, Galileo was ...  Copernicus  \n",
       "1  No. 2: 1912 Olympian; football star at Carlisl...  Jim Thorpe  \n",
       "2  The city of Yuma in this state has a record av...     Arizona  "
      ]
     },
     "execution_count": 9,
     "metadata": {},
     "output_type": "execute_result"
    }
   ],
   "source": [
    "df_orig.head(3)"
   ]
  },
  {
   "cell_type": "markdown",
   "metadata": {},
   "source": [
    "## Part 4:  summarize data\n",
    "```python\n",
    "df.describe()\n",
    "```"
   ]
  },
  {
   "cell_type": "code",
   "execution_count": 11,
   "metadata": {
    "collapsed": false
   },
   "outputs": [
    {
     "data": {
      "text/html": [
       "<div>\n",
       "<style scoped>\n",
       "    .dataframe tbody tr th:only-of-type {\n",
       "        vertical-align: middle;\n",
       "    }\n",
       "\n",
       "    .dataframe tbody tr th {\n",
       "        vertical-align: top;\n",
       "    }\n",
       "\n",
       "    .dataframe thead th {\n",
       "        text-align: right;\n",
       "    }\n",
       "</style>\n",
       "<table border=\"1\" class=\"dataframe\">\n",
       "  <thead>\n",
       "    <tr style=\"text-align: right;\">\n",
       "      <th></th>\n",
       "      <th>Show Number</th>\n",
       "    </tr>\n",
       "  </thead>\n",
       "  <tbody>\n",
       "    <tr>\n",
       "      <th>count</th>\n",
       "      <td>10999.000</td>\n",
       "    </tr>\n",
       "    <tr>\n",
       "      <th>mean</th>\n",
       "      <td>4308.181</td>\n",
       "    </tr>\n",
       "    <tr>\n",
       "      <th>std</th>\n",
       "      <td>1397.758</td>\n",
       "    </tr>\n",
       "    <tr>\n",
       "      <th>min</th>\n",
       "      <td>62.000</td>\n",
       "    </tr>\n",
       "    <tr>\n",
       "      <th>25%</th>\n",
       "      <td>3409.000</td>\n",
       "    </tr>\n",
       "    <tr>\n",
       "      <th>50%</th>\n",
       "      <td>4541.000</td>\n",
       "    </tr>\n",
       "    <tr>\n",
       "      <th>75%</th>\n",
       "      <td>5431.000</td>\n",
       "    </tr>\n",
       "    <tr>\n",
       "      <th>max</th>\n",
       "      <td>6294.000</td>\n",
       "    </tr>\n",
       "  </tbody>\n",
       "</table>\n",
       "</div>"
      ],
      "text/plain": [
       "       Show Number\n",
       "count    10999.000\n",
       "mean      4308.181\n",
       "std       1397.758\n",
       "min         62.000\n",
       "25%       3409.000\n",
       "50%       4541.000\n",
       "75%       5431.000\n",
       "max       6294.000"
      ]
     },
     "execution_count": 11,
     "metadata": {},
     "output_type": "execute_result"
    }
   ],
   "source": [
    "df_orig.describe()"
   ]
  },
  {
   "cell_type": "code",
   "execution_count": 12,
   "metadata": {
    "collapsed": false
   },
   "outputs": [
    {
     "data": {
      "text/plain": [
       "count         10999\n",
       "unique            3\n",
       "top       Jeopardy!\n",
       "freq           5434\n",
       "Name: Round, dtype: object"
      ]
     },
     "execution_count": 12,
     "metadata": {},
     "output_type": "execute_result"
    }
   ],
   "source": [
    "df_orig['Round'].describe()"
   ]
  },
  {
   "cell_type": "code",
   "execution_count": 13,
   "metadata": {
    "collapsed": false
   },
   "outputs": [
    {
     "data": {
      "text/plain": [
       "array(['Jeopardy!', 'Double Jeopardy!', 'Final Jeopardy!'], dtype=object)"
      ]
     },
     "execution_count": 13,
     "metadata": {},
     "output_type": "execute_result"
    }
   ],
   "source": [
    "# print the unique values of the column 'Round'\n",
    "df_orig['Round'].unique()"
   ]
  },
  {
   "cell_type": "code",
   "execution_count": 14,
   "metadata": {
    "collapsed": false
   },
   "outputs": [
    {
     "data": {
      "text/html": [
       "<div>\n",
       "<style scoped>\n",
       "    .dataframe tbody tr th:only-of-type {\n",
       "        vertical-align: middle;\n",
       "    }\n",
       "\n",
       "    .dataframe tbody tr th {\n",
       "        vertical-align: top;\n",
       "    }\n",
       "\n",
       "    .dataframe thead th {\n",
       "        text-align: right;\n",
       "    }\n",
       "</style>\n",
       "<table border=\"1\" class=\"dataframe\">\n",
       "  <thead>\n",
       "    <tr style=\"text-align: right;\">\n",
       "      <th></th>\n",
       "      <th>Show Number</th>\n",
       "      <th>Air Date</th>\n",
       "      <th>Category</th>\n",
       "      <th>Value</th>\n",
       "      <th>Question</th>\n",
       "      <th>Answer</th>\n",
       "    </tr>\n",
       "    <tr>\n",
       "      <th>Round</th>\n",
       "      <th></th>\n",
       "      <th></th>\n",
       "      <th></th>\n",
       "      <th></th>\n",
       "      <th></th>\n",
       "      <th></th>\n",
       "    </tr>\n",
       "  </thead>\n",
       "  <tbody>\n",
       "    <tr>\n",
       "      <th>Double Jeopardy!</th>\n",
       "      <td>5382</td>\n",
       "      <td>5382</td>\n",
       "      <td>5382</td>\n",
       "      <td>5382</td>\n",
       "      <td>5382</td>\n",
       "      <td>5382</td>\n",
       "    </tr>\n",
       "    <tr>\n",
       "      <th>Final Jeopardy!</th>\n",
       "      <td>183</td>\n",
       "      <td>183</td>\n",
       "      <td>183</td>\n",
       "      <td>183</td>\n",
       "      <td>183</td>\n",
       "      <td>183</td>\n",
       "    </tr>\n",
       "    <tr>\n",
       "      <th>Jeopardy!</th>\n",
       "      <td>5434</td>\n",
       "      <td>5434</td>\n",
       "      <td>5434</td>\n",
       "      <td>5434</td>\n",
       "      <td>5434</td>\n",
       "      <td>5434</td>\n",
       "    </tr>\n",
       "  </tbody>\n",
       "</table>\n",
       "</div>"
      ],
      "text/plain": [
       "                  Show Number  Air Date  Category  Value  Question  Answer\n",
       "Round                                                                     \n",
       "Double Jeopardy!         5382      5382      5382   5382      5382    5382\n",
       "Final Jeopardy!           183       183       183    183       183     183\n",
       "Jeopardy!                5434      5434      5434   5434      5434    5434"
      ]
     },
     "execution_count": 14,
     "metadata": {},
     "output_type": "execute_result"
    }
   ],
   "source": [
    "df_orig.groupby('Round').count()"
   ]
  },
  {
   "cell_type": "markdown",
   "metadata": {},
   "source": [
    "## Part 5:  create a new column"
   ]
  },
  {
   "cell_type": "code",
   "execution_count": 15,
   "metadata": {
    "collapsed": true
   },
   "outputs": [],
   "source": [
    "df_orig['Dollar_Amt'] = df_orig['Value']"
   ]
  },
  {
   "cell_type": "markdown",
   "metadata": {},
   "source": [
    "## Part 6:  clean data"
   ]
  },
  {
   "cell_type": "code",
   "execution_count": 16,
   "metadata": {
    "collapsed": false
   },
   "outputs": [
    {
     "data": {
      "text/html": [
       "<div>\n",
       "<style scoped>\n",
       "    .dataframe tbody tr th:only-of-type {\n",
       "        vertical-align: middle;\n",
       "    }\n",
       "\n",
       "    .dataframe tbody tr th {\n",
       "        vertical-align: top;\n",
       "    }\n",
       "\n",
       "    .dataframe thead th {\n",
       "        text-align: right;\n",
       "    }\n",
       "</style>\n",
       "<table border=\"1\" class=\"dataframe\">\n",
       "  <thead>\n",
       "    <tr style=\"text-align: right;\">\n",
       "      <th></th>\n",
       "      <th>Show Number</th>\n",
       "      <th>Air Date</th>\n",
       "      <th>Round</th>\n",
       "      <th>Category</th>\n",
       "      <th>Value</th>\n",
       "      <th>Question</th>\n",
       "      <th>Answer</th>\n",
       "      <th>Dollar_Amt</th>\n",
       "    </tr>\n",
       "  </thead>\n",
       "  <tbody>\n",
       "    <tr>\n",
       "      <th>0</th>\n",
       "      <td>4680</td>\n",
       "      <td>12/31/04</td>\n",
       "      <td>Jeopardy!</td>\n",
       "      <td>HISTORY</td>\n",
       "      <td>$200</td>\n",
       "      <td>For the last 8 years of his life, Galileo was ...</td>\n",
       "      <td>Copernicus</td>\n",
       "      <td>200</td>\n",
       "    </tr>\n",
       "    <tr>\n",
       "      <th>1</th>\n",
       "      <td>4680</td>\n",
       "      <td>12/31/04</td>\n",
       "      <td>Jeopardy!</td>\n",
       "      <td>ESPN's TOP 10 ALL-TIME ATHLETES</td>\n",
       "      <td>$200</td>\n",
       "      <td>No. 2: 1912 Olympian; football star at Carlisl...</td>\n",
       "      <td>Jim Thorpe</td>\n",
       "      <td>200</td>\n",
       "    </tr>\n",
       "    <tr>\n",
       "      <th>2</th>\n",
       "      <td>4680</td>\n",
       "      <td>12/31/04</td>\n",
       "      <td>Jeopardy!</td>\n",
       "      <td>EVERYBODY TALKS ABOUT IT...</td>\n",
       "      <td>$200</td>\n",
       "      <td>The city of Yuma in this state has a record av...</td>\n",
       "      <td>Arizona</td>\n",
       "      <td>200</td>\n",
       "    </tr>\n",
       "  </tbody>\n",
       "</table>\n",
       "</div>"
      ],
      "text/plain": [
       "   Show Number  Air Date      Round                         Category Value  \\\n",
       "0         4680  12/31/04  Jeopardy!                          HISTORY  $200   \n",
       "1         4680  12/31/04  Jeopardy!  ESPN's TOP 10 ALL-TIME ATHLETES  $200   \n",
       "2         4680  12/31/04  Jeopardy!      EVERYBODY TALKS ABOUT IT...  $200   \n",
       "\n",
       "                                            Question      Answer Dollar_Amt  \n",
       "0  For the last 8 years of his life, Galileo was ...  Copernicus        200  \n",
       "1  No. 2: 1912 Olympian; football star at Carlisl...  Jim Thorpe        200  \n",
       "2  The city of Yuma in this state has a record av...     Arizona        200  "
      ]
     },
     "execution_count": 16,
     "metadata": {},
     "output_type": "execute_result"
    }
   ],
   "source": [
    "# remove the '$' in the column Dollar_Amt\n",
    "df_orig['Dollar_Amt'].replace(regex=True,inplace=True,to_replace=r'\\$',value=r'')\n",
    "\n",
    "df_orig.head(3)"
   ]
  },
  {
   "cell_type": "code",
   "execution_count": 17,
   "metadata": {
    "collapsed": false
   },
   "outputs": [
    {
     "data": {
      "text/html": [
       "<div>\n",
       "<style scoped>\n",
       "    .dataframe tbody tr th:only-of-type {\n",
       "        vertical-align: middle;\n",
       "    }\n",
       "\n",
       "    .dataframe tbody tr th {\n",
       "        vertical-align: top;\n",
       "    }\n",
       "\n",
       "    .dataframe thead th {\n",
       "        text-align: right;\n",
       "    }\n",
       "</style>\n",
       "<table border=\"1\" class=\"dataframe\">\n",
       "  <thead>\n",
       "    <tr style=\"text-align: right;\">\n",
       "      <th></th>\n",
       "      <th>Show Number</th>\n",
       "      <th>Air Date</th>\n",
       "      <th>Round</th>\n",
       "      <th>Category</th>\n",
       "      <th>Value</th>\n",
       "      <th>Question</th>\n",
       "      <th>Answer</th>\n",
       "      <th>Dollar_Amt</th>\n",
       "    </tr>\n",
       "  </thead>\n",
       "  <tbody>\n",
       "    <tr>\n",
       "      <th>10994</th>\n",
       "      <td>4362</td>\n",
       "      <td>7/15/03</td>\n",
       "      <td>Double Jeopardy!</td>\n",
       "      <td>BEFORE &amp; AFTER</td>\n",
       "      <td>$1,200</td>\n",
       "      <td>Liberator &amp; king of Scotland who starred in \"D...</td>\n",
       "      <td>Robert the Bruce Willis</td>\n",
       "      <td>1,200</td>\n",
       "    </tr>\n",
       "    <tr>\n",
       "      <th>10995</th>\n",
       "      <td>4362</td>\n",
       "      <td>7/15/03</td>\n",
       "      <td>Double Jeopardy!</td>\n",
       "      <td>PEN NAMES</td>\n",
       "      <td>$2,000</td>\n",
       "      <td>This pseudonym means \"2 fathoms deep\"</td>\n",
       "      <td>Mark Twain</td>\n",
       "      <td>2,000</td>\n",
       "    </tr>\n",
       "    <tr>\n",
       "      <th>10996</th>\n",
       "      <td>4362</td>\n",
       "      <td>7/15/03</td>\n",
       "      <td>Double Jeopardy!</td>\n",
       "      <td>TELEVISION</td>\n",
       "      <td>$1,600</td>\n",
       "      <td>She's the \"Night Court\" actress seen here</td>\n",
       "      <td>Markie Post</td>\n",
       "      <td>1,600</td>\n",
       "    </tr>\n",
       "    <tr>\n",
       "      <th>10997</th>\n",
       "      <td>4362</td>\n",
       "      <td>7/15/03</td>\n",
       "      <td>Double Jeopardy!</td>\n",
       "      <td>INVENTIVE MINDS</td>\n",
       "      <td>$1,600</td>\n",
       "      <td>In 1952 he &amp; Charles Bowman joined forces to d...</td>\n",
       "      <td>Orville Redenbacher</td>\n",
       "      <td>1,600</td>\n",
       "    </tr>\n",
       "    <tr>\n",
       "      <th>10998</th>\n",
       "      <td>4362</td>\n",
       "      <td>7/15/03</td>\n",
       "      <td>Double Jeopardy!</td>\n",
       "      <td>REFRESHER COURSE</td>\n",
       "      <td>$1,600</td>\n",
       "      <td>Lemon juice, sugar, gin, club soda &amp; an egg go...</td>\n",
       "      <td>royal gin fizz</td>\n",
       "      <td>1,600</td>\n",
       "    </tr>\n",
       "  </tbody>\n",
       "</table>\n",
       "</div>"
      ],
      "text/plain": [
       "       Show Number Air Date             Round          Category   Value  \\\n",
       "10994         4362  7/15/03  Double Jeopardy!    BEFORE & AFTER  $1,200   \n",
       "10995         4362  7/15/03  Double Jeopardy!         PEN NAMES  $2,000   \n",
       "10996         4362  7/15/03  Double Jeopardy!        TELEVISION  $1,600   \n",
       "10997         4362  7/15/03  Double Jeopardy!   INVENTIVE MINDS  $1,600   \n",
       "10998         4362  7/15/03  Double Jeopardy!  REFRESHER COURSE  $1,600   \n",
       "\n",
       "                                                Question  \\\n",
       "10994  Liberator & king of Scotland who starred in \"D...   \n",
       "10995              This pseudonym means \"2 fathoms deep\"   \n",
       "10996          She's the \"Night Court\" actress seen here   \n",
       "10997  In 1952 he & Charles Bowman joined forces to d...   \n",
       "10998  Lemon juice, sugar, gin, club soda & an egg go...   \n",
       "\n",
       "                        Answer Dollar_Amt  \n",
       "10994  Robert the Bruce Willis      1,200  \n",
       "10995               Mark Twain      2,000  \n",
       "10996              Markie Post      1,600  \n",
       "10997      Orville Redenbacher      1,600  \n",
       "10998           royal gin fizz      1,600  "
      ]
     },
     "execution_count": 17,
     "metadata": {},
     "output_type": "execute_result"
    }
   ],
   "source": [
    "# let's look at the tail end of the data\n",
    "df_orig.tail(5)"
   ]
  },
  {
   "cell_type": "code",
   "execution_count": 18,
   "metadata": {
    "collapsed": false
   },
   "outputs": [
    {
     "data": {
      "text/html": [
       "<div>\n",
       "<style scoped>\n",
       "    .dataframe tbody tr th:only-of-type {\n",
       "        vertical-align: middle;\n",
       "    }\n",
       "\n",
       "    .dataframe tbody tr th {\n",
       "        vertical-align: top;\n",
       "    }\n",
       "\n",
       "    .dataframe thead th {\n",
       "        text-align: right;\n",
       "    }\n",
       "</style>\n",
       "<table border=\"1\" class=\"dataframe\">\n",
       "  <thead>\n",
       "    <tr style=\"text-align: right;\">\n",
       "      <th></th>\n",
       "      <th>Show Number</th>\n",
       "      <th>Air Date</th>\n",
       "      <th>Round</th>\n",
       "      <th>Category</th>\n",
       "      <th>Value</th>\n",
       "      <th>Question</th>\n",
       "      <th>Answer</th>\n",
       "      <th>Dollar_Amt</th>\n",
       "    </tr>\n",
       "  </thead>\n",
       "  <tbody>\n",
       "    <tr>\n",
       "      <th>10997</th>\n",
       "      <td>4362</td>\n",
       "      <td>7/15/03</td>\n",
       "      <td>Double Jeopardy!</td>\n",
       "      <td>INVENTIVE MINDS</td>\n",
       "      <td>$1,600</td>\n",
       "      <td>In 1952 he &amp; Charles Bowman joined forces to d...</td>\n",
       "      <td>Orville Redenbacher</td>\n",
       "      <td>1600</td>\n",
       "    </tr>\n",
       "    <tr>\n",
       "      <th>10998</th>\n",
       "      <td>4362</td>\n",
       "      <td>7/15/03</td>\n",
       "      <td>Double Jeopardy!</td>\n",
       "      <td>REFRESHER COURSE</td>\n",
       "      <td>$1,600</td>\n",
       "      <td>Lemon juice, sugar, gin, club soda &amp; an egg go...</td>\n",
       "      <td>royal gin fizz</td>\n",
       "      <td>1600</td>\n",
       "    </tr>\n",
       "  </tbody>\n",
       "</table>\n",
       "</div>"
      ],
      "text/plain": [
       "       Show Number Air Date             Round          Category   Value  \\\n",
       "10997         4362  7/15/03  Double Jeopardy!   INVENTIVE MINDS  $1,600   \n",
       "10998         4362  7/15/03  Double Jeopardy!  REFRESHER COURSE  $1,600   \n",
       "\n",
       "                                                Question               Answer  \\\n",
       "10997  In 1952 he & Charles Bowman joined forces to d...  Orville Redenbacher   \n",
       "10998  Lemon juice, sugar, gin, club soda & an egg go...       royal gin fizz   \n",
       "\n",
       "      Dollar_Amt  \n",
       "10997       1600  \n",
       "10998       1600  "
      ]
     },
     "execution_count": 18,
     "metadata": {},
     "output_type": "execute_result"
    }
   ],
   "source": [
    "# we need to do more cleaning.  There is a comma in the dollar amount\n",
    "# remove the commas in the column 'Dollar_Amt'\n",
    "# there are many ways to do it.  here's one:\n",
    "df_orig['Dollar_Amt'] = df_orig['Dollar_Amt'].str.replace(',', '')\n",
    "df_orig.tail(2)"
   ]
  },
  {
   "cell_type": "code",
   "execution_count": 19,
   "metadata": {
    "collapsed": true
   },
   "outputs": [],
   "source": [
    "# create a new column which we want to be numeric\n",
    "df_orig['Dollar_Amt_n'] = df_orig['Dollar_Amt']"
   ]
  },
  {
   "cell_type": "code",
   "execution_count": 20,
   "metadata": {
    "collapsed": false
   },
   "outputs": [
    {
     "data": {
      "text/plain": [
       "Show Number      int64\n",
       "Air Date        object\n",
       "Round           object\n",
       "Category        object\n",
       "Value           object\n",
       "Question        object\n",
       "Answer          object\n",
       "Dollar_Amt      object\n",
       "Dollar_Amt_n    object\n",
       "dtype: object"
      ]
     },
     "execution_count": 20,
     "metadata": {},
     "output_type": "execute_result"
    }
   ],
   "source": [
    "# check data types\n",
    "df_orig.dtypes"
   ]
  },
  {
   "cell_type": "code",
   "execution_count": 21,
   "metadata": {
    "collapsed": false
   },
   "outputs": [
    {
     "data": {
      "text/plain": [
       "count     10999\n",
       "unique       52\n",
       "top         400\n",
       "freq       2144\n",
       "Name: Dollar_Amt_n, dtype: object"
      ]
     },
     "execution_count": 21,
     "metadata": {},
     "output_type": "execute_result"
    }
   ],
   "source": [
    "df_orig['Dollar_Amt_n'].describe()"
   ]
  },
  {
   "cell_type": "code",
   "execution_count": 22,
   "metadata": {
    "collapsed": false
   },
   "outputs": [
    {
     "data": {
      "text/plain": [
       "array(['200', '400', '600', '800', '2000', '1000', '1200', '1600', '3200',\n",
       "       'None', '5000', '100', '300', '500', '1500', '4800', '1800',\n",
       "       '1100', '2200', '3400', '3000', '4000', '6800', '1900', '3100',\n",
       "       '700', '1400', '2800', '8000', '6000', '2400', '12000', '3800',\n",
       "       '2500', '6200', '10000', '7000', '1492', '7400', '1300', '7200',\n",
       "       '2600', '3300', '5400', '4500', '2100', '900', '3600', '2127',\n",
       "       '367', '4400', '3500'], dtype=object)"
      ]
     },
     "execution_count": 22,
     "metadata": {},
     "output_type": "execute_result"
    }
   ],
   "source": [
    "df_orig['Dollar_Amt_n'].unique()"
   ]
  },
  {
   "cell_type": "markdown",
   "metadata": {},
   "source": [
    "## Part 7:  change data type"
   ]
  },
  {
   "cell_type": "code",
   "execution_count": 23,
   "metadata": {
    "collapsed": false
   },
   "outputs": [],
   "source": [
    "df_orig['Dollar_Amt_n'] = pd.to_numeric(df_orig['Dollar_Amt_n'], errors='coerce')"
   ]
  },
  {
   "cell_type": "code",
   "execution_count": 24,
   "metadata": {
    "collapsed": false
   },
   "outputs": [
    {
     "data": {
      "text/plain": [
       "array([  200.,   400.,   600.,   800.,  2000.,  1000.,  1200.,  1600.,\n",
       "        3200.,    nan,  5000.,   100.,   300.,   500.,  1500.,  4800.,\n",
       "        1800.,  1100.,  2200.,  3400.,  3000.,  4000.,  6800.,  1900.,\n",
       "        3100.,   700.,  1400.,  2800.,  8000.,  6000.,  2400., 12000.,\n",
       "        3800.,  2500.,  6200., 10000.,  7000.,  1492.,  7400.,  1300.,\n",
       "        7200.,  2600.,  3300.,  5400.,  4500.,  2100.,   900.,  3600.,\n",
       "        2127.,   367.,  4400.,  3500.])"
      ]
     },
     "execution_count": 24,
     "metadata": {},
     "output_type": "execute_result"
    }
   ],
   "source": [
    "df_orig['Dollar_Amt_n'].unique()"
   ]
  },
  {
   "cell_type": "code",
   "execution_count": 25,
   "metadata": {
    "collapsed": false
   },
   "outputs": [
    {
     "data": {
      "text/plain": [
       "Show Number       int64\n",
       "Air Date         object\n",
       "Round            object\n",
       "Category         object\n",
       "Value            object\n",
       "Question         object\n",
       "Answer           object\n",
       "Dollar_Amt       object\n",
       "Dollar_Amt_n    float64\n",
       "dtype: object"
      ]
     },
     "execution_count": 25,
     "metadata": {},
     "output_type": "execute_result"
    }
   ],
   "source": [
    "# check data types\n",
    "df_orig.dtypes\n",
    "\n",
    "# notice Dollar_Amt_n is now type float64"
   ]
  },
  {
   "cell_type": "code",
   "execution_count": 26,
   "metadata": {
    "collapsed": false
   },
   "outputs": [
    {
     "data": {
      "text/plain": [
       "count    10816.000\n",
       "mean       761.001\n",
       "std        643.154\n",
       "min        100.000\n",
       "25%        400.000\n",
       "50%        600.000\n",
       "75%       1000.000\n",
       "max      12000.000\n",
       "Name: Dollar_Amt_n, dtype: float64"
      ]
     },
     "execution_count": 26,
     "metadata": {},
     "output_type": "execute_result"
    }
   ],
   "source": [
    "# notice now we see summary statistics (rather than frequency counts for string data)\n",
    "df_orig['Dollar_Amt_n'].describe()"
   ]
  },
  {
   "cell_type": "markdown",
   "metadata": {},
   "source": [
    "## Part 8:  visualize data"
   ]
  },
  {
   "cell_type": "code",
   "execution_count": 27,
   "metadata": {
    "collapsed": false
   },
   "outputs": [
    {
     "data": {
      "text/plain": [
       "<matplotlib.axes._subplots.AxesSubplot at 0x10f3bfbe0>"
      ]
     },
     "execution_count": 27,
     "metadata": {},
     "output_type": "execute_result"
    },
    {
     "data": {
      "image/png": "[encoded data removed]",
      "text/plain": [
       "<matplotlib.figure.Figure at 0x10f3c30b8>"
      ]
     },
     "metadata": {},
     "output_type": "display_data"
    }
   ],
   "source": [
    "# do barplot of a categorical variable\n",
    "df_orig['Round'].value_counts().plot('barh')"
   ]
  },
  {
   "cell_type": "code",
   "execution_count": 28,
   "metadata": {
    "collapsed": false
   },
   "outputs": [
    {
     "data": {
      "text/plain": [
       "<matplotlib.axes._subplots.AxesSubplot at 0x10f3bc1d0>"
      ]
     },
     "execution_count": 28,
     "metadata": {},
     "output_type": "execute_result"
    },
    {
     "data": {
      "image/png": "[encoded data removed]",
      "text/plain": [
       "<matplotlib.figure.Figure at 0x10f3b3e10>"
      ]
     },
     "metadata": {},
     "output_type": "display_data"
    }
   ],
   "source": [
    "# do barplot of a numerical variable\n",
    "fig = plt.figure(figsize=(12,5))\n",
    "\n",
    "df_orig['Dollar_Amt_n'].value_counts().plot('bar')"
   ]
  },
  {
   "cell_type": "code",
   "execution_count": 29,
   "metadata": {
    "collapsed": false
   },
   "outputs": [
    {
     "data": {
      "text/plain": [
       "<matplotlib.axes._subplots.AxesSubplot at 0x10f337710>"
      ]
     },
     "execution_count": 29,
     "metadata": {},
     "output_type": "execute_result"
    },
    {
     "data": {
      "image/png": "[encoded data removed]",
      "text/plain": [
       "<matplotlib.figure.Figure at 0x10f373ba8>"
      ]
     },
     "metadata": {},
     "output_type": "display_data"
    }
   ],
   "source": [
    "# do barplot of a categorical variable\n",
    "fig = plt.figure(figsize=(12,5))\n",
    "\n",
    "df_orig['Value'].value_counts().plot('bar')"
   ]
  },
  {
   "cell_type": "code",
   "execution_count": null,
   "metadata": {
    "collapsed": true
   },
   "outputs": [],
   "source": []
  }
 ],
 "metadata": {
  "anaconda-cloud": {},
  "kernelspec": {
   "display_name": "Python 3",
   "language": "python",
   "name": "python3"
  },
  "language_info": {
   "codemirror_mode": {
    "name": "ipython",
    "version": 3
   },
   "file_extension": ".py",
   "mimetype": "text/x-python",
   "name": "python",
   "nbconvert_exporter": "python",
   "pygments_lexer": "ipython3",
   "version": "3.6.4"
  }
 },
 "nbformat": 4,
 "nbformat_minor": 2
}
